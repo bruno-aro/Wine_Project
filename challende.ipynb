{
 "cells": [
  {
   "cell_type": "code",
   "execution_count": 22,
   "id": "a7f81149",
   "metadata": {},
   "outputs": [
    {
     "name": "stdout",
     "output_type": "stream",
     "text": [
      "code\n"
     ]
    }
   ],
   "source": [
    "mensaje = \"dpef\"\n",
    "clave = 1\n",
    "\n",
    "resultado = caesar_decrypt_with_key(mensaje, clave)\n",
    "print(resultado)\n"
   ]
  },
  {
   "cell_type": "code",
   "execution_count": 23,
   "id": "d44271d1",
   "metadata": {},
   "outputs": [
    {
     "name": "stdout",
     "output_type": "stream",
     "text": [
      "hello\n"
     ]
    }
   ],
   "source": [
    "mensaje = \"khoor\"\n",
    "clave = 3\n",
    "\n",
    "print(caesar_decrypt_with_key(mensaje, clave))\n"
   ]
  },
  {
   "cell_type": "code",
   "execution_count": null,
   "id": "64ec0a2c",
   "metadata": {},
   "outputs": [
    {
     "name": "stdout",
     "output_type": "stream",
     "text": [
      "supercalifragilisticexpialidocious\n"
     ]
    }
   ],
   "source": [
    "def caesar_decrypt_with_key(text, key):\n",
    "    alphabet = 'abcdefghijklmnopqrstuvwxyz'  # El abecedario\n",
    "    decrypted = ''  # Acá vamos a guardar el mensaje descifrado\n",
    "\n",
    "    for char in text:  # Vamos letra por letra\n",
    "        if char in alphabet:  # Si es una letra (no un número, espacio, etc.)\n",
    "            original_index = (alphabet.index(char) - key) % 26\n",
    "            decrypted += alphabet[original_index]  # Agregamos la letra correcta\n",
    "        else:\n",
    "            decrypted += char  # Si no es letra, la dejamos como está\n",
    "\n",
    "    return decrypted\n",
    "\n",
    "texto = \"oqlanywhebnwceheopeyatlewhezkyekqo\"\n",
    "clave = 22\n",
    "print(caesar_decrypt_with_key(texto, clave))"
   ]
  },
  {
   "cell_type": "code",
   "execution_count": null,
   "id": "5599db8d",
   "metadata": {},
   "outputs": [
    {
     "name": "stdout",
     "output_type": "stream",
     "text": [
      "Then, what shall we die for? You will listen to me! Listen! The Brethren will still be looking here, to us, to the Black Pearl, to lead. And what will they see? Frightened bilge rats aboard a derelict ship? No. No, they will see free men and freedom! And what the enemy will see is the flash of our cannons. They will hear the ring of our swords, and they will know what we can do. By the sweat of our brows and the strength of our backs, and the courage of our hearts. Gentlemen. Hoist the colors!\n"
     ]
    }
   ],
   "source": [
    "def caesar_decrypt_correct(text, key):\n",
    "    decrypted = \"\"\n",
    "    for char in text:\n",
    "        if 'a' <= char <= 'z':\n",
    "            # Descifrar letra minúscula\n",
    "            decrypted += chr((ord(char) - ord('a') - key) % 26 + ord('a'))\n",
    "        elif 'A' <= char <= 'Z':\n",
    "            # Descifrar letra mayúscula\n",
    "            decrypted += chr((ord(char) - ord('A') - key) % 26 + ord('A'))\n",
    "        else:\n",
    "            # Mantener espacios, signos y otros caracteres\n",
    "            decrypted += char\n",
    "    return decrypted\n",
    "\n",
    "# 🔐 Texto cifrado original del desafío (no lo modifiques)\n",
    "encrypted_text = (\n",
    "    \"Nbyh, qbun mbuff qy xcy zil? Sio qcff fcmnyh ni gy! Fcmnyh! \"\n",
    "    \"Nby Vlynblyh qcff mncff vy fiiecha byly, ni om, ni nby Vfuwe Jyulf, \"\n",
    "    \"ni fyux. Uhx qbun qcff nbys myy? Zlcabnyhyx vcfay lunm uviulx u \"\n",
    "    \"xylyfcwn mbcj? Hi. Hi, nbys qcff myy zlyy gyh uhx zlyyxig! Uhx qbun \"\n",
    "    \"nby yhygs qcff myy cm nby zfumb iz iol wuhhihm. Nbys qcff byul nby \"\n",
    "    \"lcha iz iol mqilxm, uhx nbys qcff ehiq qbun qy wuh xi. Vs nby mqyun \"\n",
    "    \"iz iol vliqm uhx nby mnlyhanb iz iol vuwem, uhx nby wioluay iz iol \"\n",
    "    \"byulnm. Ayhnfygyh. Bicmn nby wifilm!\"\n",
    ")\n",
    "# 🔑 Clave del cifrado\n",
    "key = 20\n",
    "\n",
    "# 🧩 Descifrar\n",
    "decrypted_text = caesar_decrypt_correct(encrypted_text, key)\n",
    "\n",
    "# 🖨 Mostrar el resultado\n",
    "print(decrypted_text)\n"
   ]
  }
 ],
 "metadata": {
  "kernelspec": {
   "display_name": "CodeAcademy",
   "language": "python",
   "name": "python3"
  },
  "language_info": {
   "codemirror_mode": {
    "name": "ipython",
    "version": 3
   },
   "file_extension": ".py",
   "mimetype": "text/x-python",
   "name": "python",
   "nbconvert_exporter": "python",
   "pygments_lexer": "ipython3",
   "version": "3.12.11"
  }
 },
 "nbformat": 4,
 "nbformat_minor": 5
}
